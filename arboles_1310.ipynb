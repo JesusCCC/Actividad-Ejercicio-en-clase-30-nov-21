{
  "nbformat": 4,
  "nbformat_minor": 0,
  "metadata": {
    "colab": {
      "name": "arboles_1310",
      "provenance": [],
      "collapsed_sections": []
    },
    "kernelspec": {
      "name": "python3",
      "display_name": "Python 3"
    },
    "language_info": {
      "name": "python"
    }
  },
  "cells": [
    {
      "cell_type": "code",
      "metadata": {
        "id": "9oqTivVNKgOr"
      },
      "source": [
        "class NodoBinario:\n",
        "    def __init__(self, value, left = None, right = None):\n",
        "        self.data = value\n",
        "        self.left = left\n",
        "        self.right = right\n",
        "\n",
        "class NodoTernario:\n",
        "    def __init__(self, value, left = None, right = None, center = None):\n",
        "        self.data = value\n",
        "        self.left = left\n",
        "        self.center = center\n",
        "        self.right = right"
      ],
      "execution_count": 22,
      "outputs": []
    },
    {
      "cell_type": "code",
      "metadata": {
        "id": "LpNzrvbcJ7lx",
        "colab": {
          "base_uri": "https://localhost:8080/"
        },
        "outputId": "5e4d82c9-543e-4976-8814-09c09e145d13"
      },
      "source": [
        "arbol1 = NodoBinario(\"R\", NodoBinario(\"C\"), NodoBinario (\"H\"))\n",
        "print(arbol1.right.data)\n",
        "\n",
        "arbol2 = NodoTernario(4, NodoTernario(3, NodoTernario(5, left = NodoTernario(2)), NodoTernario(5),NodoTernario(2)), None ,NodoTernario(5))\n",
        "print(arbol2.left.right.data)\n",
        "print(arbol2.data)\n",
        "print(arbol2.left.center.data)\n",
        "\n",
        "#print(arbol2.left.left.left.data)\n",
        "\n",
        "print(arbol2.left.center.data)\n",
        "print(arbol2.left.right.data)\n",
        "print(arbol2.left.left.left.data)\n",
        "print(\"---- sin usar la palabra left en el print ----\")\n",
        "ejemplo = arbol2.left.left.left.data\n",
        "print(ejemplo)\n",
        "print(\"---- otra forma? ----\")\n",
        "aux = arbol2\n",
        "while(aux.left != None):\n",
        "    aux = aux.left\n",
        "print(aux.data)"
      ],
      "execution_count": 33,
      "outputs": [
        {
          "output_type": "stream",
          "name": "stdout",
          "text": [
            "H\n",
            "5\n",
            "4\n",
            "2\n",
            "2\n",
            "5\n",
            "2\n",
            "---- sin usar la palabra left en el print ----\n",
            "2\n",
            "---- otra forma? ----\n",
            "2\n"
          ]
        }
      ]
    },
    {
      "cell_type": "code",
      "metadata": {
        "id": "z7F1DcRdIwsB",
        "colab": {
          "base_uri": "https://localhost:8080/"
        },
        "outputId": "724c68df-e514-40e1-d9bf-eac4f3318449"
      },
      "source": [
        "root = NodoBinario(\"Santi\",None,NodoBinario(\"Jesus\",NodoBinario(\"Pedro\",None,NodoBinario(\"Pedro jr\"))))\n",
        "print(root.right.left.right.data)"
      ],
      "execution_count": 34,
      "outputs": [
        {
          "output_type": "stream",
          "name": "stdout",
          "text": [
            "Pedro jr\n"
          ]
        }
      ]
    },
    {
      "cell_type": "code",
      "metadata": {
        "id": "mP-I6XWN5WCd"
      },
      "source": [
        "class BinaryNode:\n",
        "    def __init__(self, value, left = None, right = None):\n",
        "        self.data = value\n",
        "        self.left = left\n",
        "        self.right = right\n",
        "\n",
        "class BinarySearchTree:\n",
        "    def __init__( self ):\n",
        "        self.root = None\n",
        "\n",
        "    def  insert( self, value ):\n",
        "        if self.root == None:\n",
        "            self.root = BinaryNode( value )\n",
        "        else:\n",
        "            self.__insert_Nodo(self.root, value )\n",
        "        \n",
        "    def  __insert__Nodo(self, Nodo, value):\n",
        "        if Nodo.data == value:\n",
        "            pass\n",
        "        elif value <  Nodo.data: #ir a la izquierda\n",
        "            if Nodo.left == None:\n",
        "                Nodo.left = BinaryNode(value)\n",
        "            else:\n",
        "                self.__insert_Nodo( Nodo.left, value )\n",
        "        else: #ir a la derecha\n",
        "            if Nodo.rigth == None:\n",
        "                Nodo.rigth = BinaryNode(value)\n",
        "            else: \n",
        "                self.__insert_Nodo(Nodo.rigth, value )\n",
        "                \n",
        "    def transversal(self, formato = 'postorden'):\n",
        "        if formato == 'postorden':\n",
        "            self.recorrido_post( self.root)\n",
        "        elif formato == 'preorden':\n",
        "            self.recorrido_pre( self.root)\n",
        "        else: #iforden\n",
        "            self.recorrido_in( self.root)\n",
        "        print(\"-,-,-\")\n",
        "\n",
        "    def recorrido_post(self, nodo ):\n",
        "        if nodo != None:\n",
        "            self.recorrido_post( nodo.left )\n",
        "            self.recorrido_post( nodo.right )\n",
        "            print( str(nodo.data), end=\" , \" )\n",
        "\n",
        "    def recorrido_in(self, nodo ):\n",
        "        if nodo != None:\n",
        "            self.recorrido_in( nodo.left )\n",
        "            print( str(nodo.data),  end=\" , \" )\n",
        "            self.recorrido_in( nodo.right )  \n",
        "\n",
        "    def recorrido_pre(self, nodo ):\n",
        "        if nodo != None:\n",
        "            print( str(nodo.data),  end=\" , \" )\n",
        "            self.recorrido_pre( nodo.left )\n",
        "            self.recorrido_pre( nodo.right )\n",
        "    \n",
        "    def Search(self, value):\n",
        "        if self.root == None:\n",
        "            print(\"ARBOL VACIO\")\n",
        "            return None\n",
        "        else:\n",
        "            self.__search(self.root, value)\n",
        "\n",
        "\n",
        "    def __search(self, nodo, value):\n",
        "        if nodo.data == None:\n",
        "            print(\"El dato no existe\")\n",
        "            return None\n",
        "        elif nodo.data == value:\n",
        "            print(\"Encontrado\")\n",
        "            return nodo\n",
        "        elif value < nodo.data:\n",
        "            return self.__buscar(nodo.left, value)\n",
        "        else:\n",
        "            return self.__buscar(nodo.right, value)\n",
        " \n"
      ],
      "execution_count": 35,
      "outputs": []
    },
    {
      "cell_type": "code",
      "metadata": {
        "id": "OPGit_OXDF8C"
      },
      "source": [
        "arbol = BinarySearchTree()\n",
        "arbol.insert(60)\n",
        "arbol.insert(30)\n",
        "arbol.insert(15)\n",
        "arbol.insert(40)\n",
        "arbol.transversal()\n",
        "arbol.transversal('postorden')\n",
        "arbol.transversal('preorden')\n",
        "arbol.transversal('inorden')"
      ],
      "execution_count": null,
      "outputs": []
    }
  ]
}